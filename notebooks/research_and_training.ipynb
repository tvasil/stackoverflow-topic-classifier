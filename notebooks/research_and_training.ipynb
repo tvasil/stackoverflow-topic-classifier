{
 "cells": [
  {
   "cell_type": "code",
   "execution_count": 6,
   "metadata": {},
   "outputs": [],
   "source": [
    "from datetime import date\n",
    "from joblib import dump, load\n",
    "import numpy as np\n",
    "import pandas as pd\n",
    "import scipy.stats\n",
    "\n",
    "#from imblearn.over_sampling import SMOTE\n",
    "#from sklearn.decomposition import IncrementalPCA\n",
    "#from sklearn.discriminant_analysis import LinearDiscriminantAnalysis\n",
    "from sklearn.feature_extraction.text import TfidfVectorizer \n",
    "from sklearn.linear_model import LogisticRegression\n",
    "from sklearn.metrics import (accuracy_score, f1_score, \n",
    "                             average_precision_score, make_scorer, \n",
    "                             multilabel_confusion_matrix,\n",
    "                             classification_report)\n",
    "from sklearn.model_selection import RandomizedSearchCV, train_test_split\n",
    "from sklearn.multioutput import ClassifierChain\n",
    "from sklearn.pipeline import Pipeline\n",
    "from sklearn.preprocessing import FunctionTransformer, MultiLabelBinarizer, StandardScaler\n",
    "\n",
    "from nltk.stem.snowball import SnowballStemmer\n",
    "from nltk.tokenize import word_tokenize\n",
    "from nltk.corpus import stopwords\n",
    "import re\n",
    "\n",
    "import warnings\n",
    "warnings.filterwarnings(\"ignore\", message=r\"unknown class.*\")"
   ]
  },
  {
   "cell_type": "markdown",
   "metadata": {},
   "source": [
    "### Params"
   ]
  },
  {
   "cell_type": "code",
   "execution_count": 23,
   "metadata": {},
   "outputs": [],
   "source": [
    "# 100 top tags to predict\n",
    "TAGS_TO_KEEP = ['python', 'javascript', 'java', 'android', 'c#', 'html', 'reactjs',\n",
    "       'php', 'python3x', 'nodejs', 'r', 'c++', 'css', 'sql', 'flutter',\n",
    "       'angular', 'ios', 'pandas', 'jquery', 'mysql', 'swift', 'django', 'c',\n",
    "       'typescript', 'arrays', 'json', 'laravel', 'reactnative', 'sqlserver',\n",
    "       'amazonwebservices', 'springboot', 'firebase', 'docker', 'azure',\n",
    "       'dart', 'dataframe', 'excel', 'kotlin', 'linux', 'spring', 'vuejs',\n",
    "       'postgresql', 'wordpress', 'numpy', 'string', 'tensorflow', 'mongodb',\n",
    "       'windows', 'net', 'vba', 'regex', 'aspnetcore', 'bash', 'androidstudio',\n",
    "       'api', 'git', 'database', 'powershell', 'xcode', 'aspnet', 'list',\n",
    "       'selenium', 'kubernetes', 'machinelearning', 'visualstudiocode',\n",
    "       'express', 'rubyonrails', 'xml', 'netcore', 'macos', 'apachespark',\n",
    "       'function', 'oracle', 'csv', 'ajax', 'algorithm', 'matplotlib',\n",
    "       'unity3d', 'image', 'googlecloudfirestore', 'swiftui', 'keras', 'wpf',\n",
    "       'visualstudio', 'woocommerce', 'dictionary', 'amazons3', 'datetime',\n",
    "       'maven', 'loops', 'shell', 'npm', 'flask', 'apache', 'ruby',\n",
    "       'googlechrome', 'googlecloudplatform', 'pyspark', 'opencv', 'ubuntu']\n",
    "\n",
    "REPLACE_BY_SPACE_RE = re.compile('[/(){}\\[\\]\\|@,;]')\n",
    "BAD_SYMBOLS_RE = re.compile('[^0-9a-z #+_]')\n",
    "STOPWORDS = set(stopwords.words('english'))"
   ]
  },
  {
   "cell_type": "markdown",
   "metadata": {},
   "source": [
    "## Read data"
   ]
  },
  {
   "cell_type": "code",
   "execution_count": 37,
   "metadata": {},
   "outputs": [
    {
     "data": {
      "text/html": [
       "<div>\n",
       "<style scoped>\n",
       "    .dataframe tbody tr th:only-of-type {\n",
       "        vertical-align: middle;\n",
       "    }\n",
       "\n",
       "    .dataframe tbody tr th {\n",
       "        vertical-align: top;\n",
       "    }\n",
       "\n",
       "    .dataframe thead th {\n",
       "        text-align: right;\n",
       "    }\n",
       "</style>\n",
       "<table border=\"1\" class=\"dataframe\">\n",
       "  <thead>\n",
       "    <tr style=\"text-align: right;\">\n",
       "      <th></th>\n",
       "      <th>text</th>\n",
       "      <th>tags</th>\n",
       "    </tr>\n",
       "  </thead>\n",
       "  <tbody>\n",
       "    <tr>\n",
       "      <th>0</th>\n",
       "      <td>remove message.author reaction I wanted to rem...</td>\n",
       "      <td>['javascript', 'discord', 'discord.js']</td>\n",
       "    </tr>\n",
       "    <tr>\n",
       "      <th>1</th>\n",
       "      <td>Node.js - Native HTTP how to delete cookies In...</td>\n",
       "      <td>['javascript', 'node.js', 'cookies']</td>\n",
       "    </tr>\n",
       "    <tr>\n",
       "      <th>2</th>\n",
       "      <td>C# error: error CS1525: Unexpected symbol `Con...</td>\n",
       "      <td>['c#']</td>\n",
       "    </tr>\n",
       "    <tr>\n",
       "      <th>3</th>\n",
       "      <td>Use NGinx reverse proxy for create-react-app I...</td>\n",
       "      <td>['reactjs', 'create-react-app', 'nginx-reverse...</td>\n",
       "    </tr>\n",
       "    <tr>\n",
       "      <th>4</th>\n",
       "      <td>How to hide a specific element inside .map fun...</td>\n",
       "      <td>['javascript', 'reactjs', 'html-rendering']</td>\n",
       "    </tr>\n",
       "  </tbody>\n",
       "</table>\n",
       "</div>"
      ],
      "text/plain": [
       "                                                text  \\\n",
       "0  remove message.author reaction I wanted to rem...   \n",
       "1  Node.js - Native HTTP how to delete cookies In...   \n",
       "2  C# error: error CS1525: Unexpected symbol `Con...   \n",
       "3  Use NGinx reverse proxy for create-react-app I...   \n",
       "4  How to hide a specific element inside .map fun...   \n",
       "\n",
       "                                                tags  \n",
       "0            ['javascript', 'discord', 'discord.js']  \n",
       "1               ['javascript', 'node.js', 'cookies']  \n",
       "2                                             ['c#']  \n",
       "3  ['reactjs', 'create-react-app', 'nginx-reverse...  \n",
       "4        ['javascript', 'reactjs', 'html-rendering']  "
      ]
     },
     "execution_count": 37,
     "metadata": {},
     "output_type": "execute_result"
    }
   ],
   "source": [
    "df = pd.read_csv(\"full_body_clean.csv\")\n",
    "#df = df.sample(5000).reset_index(drop=True)\n",
    "X_train, X_test, y_train, y_test = train_test_split(df['text'].values, \n",
    "                                                    df['tags'].values, \n",
    "                                                    test_size=0.2, \n",
    "                                                    random_state=42)\n",
    "df.head()"
   ]
  },
  {
   "cell_type": "markdown",
   "metadata": {},
   "source": [
    "## Text pre-processing"
   ]
  },
  {
   "cell_type": "code",
   "execution_count": 16,
   "metadata": {},
   "outputs": [],
   "source": [
    "def text_prepare(arr, join_symbol):\n",
    "\n",
    "    def process(text, join_symbol):\n",
    "        text = text.lower() \n",
    "        text = re.sub(REPLACE_BY_SPACE_RE,\"\",text)\n",
    "\n",
    "        text = re.sub(BAD_SYMBOLS_RE,\"\",text)\n",
    "        text = re.sub(r'\\s+',\" \",text)\n",
    "\n",
    "        return f'{join_symbol}'.join([i for i in text.split() if i not in STOPWORDS])\n",
    "    retval = [process(text, join_symbol) for text in arr]\n",
    "    \n",
    "    return retval"
   ]
  },
  {
   "cell_type": "code",
   "execution_count": 17,
   "metadata": {},
   "outputs": [],
   "source": [
    "def transform_y(arr, join_symbol=','):\n",
    "    arr = text_prepare(arr, join_symbol=join_symbol)\n",
    "    arr = [set(i.split(',')) for i in arr]\n",
    "    return arr "
   ]
  },
  {
   "cell_type": "code",
   "execution_count": 40,
   "metadata": {},
   "outputs": [],
   "source": [
    "binarizer = MultiLabelBinarizer(classes=TAGS_TO_KEEP)\n",
    "y_train_binarized = binarizer.fit_transform(transform_y(y_train))\n",
    "y_test_binarized = binarizer.transform(transform_y(y_test))"
   ]
  },
  {
   "cell_type": "code",
   "execution_count": 18,
   "metadata": {},
   "outputs": [],
   "source": [
    "def tokenize_and_stem(text):\n",
    "    tokenized_list = word_tokenize(text) \n",
    "    snowball = SnowballStemmer(language='english')\n",
    "    return [snowball.stem(word) for word in tokenized_list]"
   ]
  },
  {
   "cell_type": "code",
   "execution_count": 19,
   "metadata": {},
   "outputs": [],
   "source": [
    "def to_array(sparse_matrix):\n",
    "    return sparse_matrix.toarray()"
   ]
  },
  {
   "cell_type": "markdown",
   "metadata": {},
   "source": [
    "## TDIDF + Linear Regression"
   ]
  },
  {
   "cell_type": "code",
   "execution_count": 54,
   "metadata": {},
   "outputs": [],
   "source": [
    "estimators = [('preprocessor', FunctionTransformer(text_prepare, kw_args={'join_symbol': ' '})), \n",
    "              ('tfidf', TfidfVectorizer(tokenizer=tokenize_and_stem, \n",
    "                                        ngram_range=(1, 3), \n",
    "                                        max_df=0.9, \n",
    "                                        min_df=5,\n",
    "                                        norm='l2')),\n",
    "#                ('to_array', FunctionTransformer(to_array)),\n",
    "#                ('scaler', StandardScaler(with_mean=True, \n",
    "#                                          with_std=False,\n",
    "#                                          copy=False)),\n",
    "#               ('pca', IncrementalPCA(n_components=16, batch_size=64)),\n",
    "              ('clf', ClassifierChain(LogisticRegression(C=1.0, \n",
    "                                                         penalty='l1', \n",
    "                                                         dual=False, \n",
    "                                                         solver='liblinear'), \n",
    "                                      cv=3))\n",
    "             ]\n",
    "\n",
    "training_pipe = Pipeline(estimators, verbose=True)"
   ]
  },
  {
   "cell_type": "code",
   "execution_count": 44,
   "metadata": {},
   "outputs": [
    {
     "name": "stdout",
     "output_type": "stream",
     "text": [
      "[Pipeline] ...... (step 1 of 3) Processing preprocessor, total=   2.7s\n",
      "[Pipeline] ............. (step 2 of 3) Processing tfidf, total=  54.8s\n",
      "[Pipeline] ............... (step 3 of 3) Processing clf, total= 2.3min\n",
      "CPU times: user 3min 4s, sys: 6.71 s, total: 3min 11s\n",
      "Wall time: 3min 16s\n"
     ]
    },
    {
     "data": {
      "text/plain": [
       "Pipeline(steps=[('preprocessor',\n",
       "                 FunctionTransformer(func=<function text_prepare at 0x7fd6e4744dd0>,\n",
       "                                     kw_args={'join_symbol': ' '})),\n",
       "                ('tfidf',\n",
       "                 TfidfVectorizer(max_df=0.9, min_df=5, ngram_range=(1, 3),\n",
       "                                 tokenizer=<function tokenize_and_stem at 0x7fd6f3cd0200>)),\n",
       "                ('clf',\n",
       "                 ClassifierChain(base_estimator=LogisticRegression(penalty='l1',\n",
       "                                                                   solver='liblinear'),\n",
       "                                 cv=3))],\n",
       "         verbose=True)"
      ]
     },
     "execution_count": 44,
     "metadata": {},
     "output_type": "execute_result"
    }
   ],
   "source": [
    "%time training_pipe.fit(X_train, y_train_binarized)"
   ]
  },
  {
   "cell_type": "code",
   "execution_count": 45,
   "metadata": {
    "scrolled": false
   },
   "outputs": [
    {
     "name": "stdout",
     "output_type": "stream",
     "text": [
      "                      precision    recall  f1-score   support\n",
      "\n",
      "              python       0.78      0.59      0.67       513\n",
      "          javascript       0.77      0.35      0.48       403\n",
      "                java       0.81      0.38      0.51       300\n",
      "             android       0.80      0.45      0.58       187\n",
      "                  c#       0.81      0.43      0.56       197\n",
      "                html       0.62      0.26      0.37       154\n",
      "             reactjs       0.81      0.61      0.69       148\n",
      "                 php       0.90      0.42      0.57       142\n",
      "            python3x       0.67      0.03      0.07       115\n",
      "              nodejs       0.85      0.30      0.44       118\n",
      "                   r       0.83      0.42      0.55        91\n",
      "                 c++       0.75      0.47      0.58        85\n",
      "                 css       0.81      0.42      0.55       101\n",
      "                 sql       0.58      0.21      0.31        85\n",
      "             flutter       0.98      0.72      0.83        82\n",
      "             angular       0.97      0.64      0.77        96\n",
      "                 ios       0.73      0.28      0.41        85\n",
      "              pandas       0.79      0.49      0.61        75\n",
      "              jquery       0.77      0.29      0.42        59\n",
      "               mysql       0.82      0.45      0.58        60\n",
      "               swift       0.93      0.37      0.53        70\n",
      "              django       0.95      0.70      0.81        60\n",
      "                   c       0.55      0.27      0.36        45\n",
      "          typescript       0.71      0.31      0.44        54\n",
      "              arrays       0.39      0.18      0.25        39\n",
      "                json       0.63      0.41      0.49        54\n",
      "             laravel       0.79      0.60      0.68        45\n",
      "         reactnative       0.94      0.69      0.80        49\n",
      "           sqlserver       0.81      0.35      0.49        49\n",
      "   amazonwebservices       0.79      0.42      0.54        53\n",
      "          springboot       0.70      0.33      0.45        42\n",
      "            firebase       0.75      0.59      0.66        56\n",
      "              docker       0.86      0.64      0.73        47\n",
      "               azure       0.65      0.30      0.41        43\n",
      "                dart       0.79      0.22      0.35        49\n",
      "           dataframe       0.39      0.17      0.23        42\n",
      "               excel       0.77      0.51      0.62        47\n",
      "              kotlin       0.81      0.35      0.49        37\n",
      "               linux       0.38      0.13      0.19        39\n",
      "              spring       0.88      0.35      0.50        40\n",
      "               vuejs       0.86      0.43      0.58        44\n",
      "          postgresql       0.74      0.41      0.53        34\n",
      "           wordpress       0.83      0.62      0.71        39\n",
      "               numpy       0.89      0.36      0.52        22\n",
      "              string       0.00      0.00      0.00        36\n",
      "          tensorflow       0.73      0.42      0.53        38\n",
      "             mongodb       0.89      0.61      0.72        28\n",
      "             windows       0.20      0.07      0.11        28\n",
      "                 net       0.60      0.09      0.15        34\n",
      "                 vba       0.92      0.75      0.83        32\n",
      "               regex       0.79      0.41      0.54        37\n",
      "          aspnetcore       0.91      0.29      0.44        34\n",
      "                bash       0.88      0.35      0.50        20\n",
      "       androidstudio       0.82      0.32      0.46        28\n",
      "                 api       0.00      0.00      0.00        33\n",
      "                 git       0.85      0.48      0.61        23\n",
      "            database       1.00      0.00      0.00        18\n",
      "          powershell       0.93      0.58      0.72        24\n",
      "               xcode       0.79      0.41      0.54        27\n",
      "              aspnet       0.33      0.05      0.09        19\n",
      "                list       0.29      0.12      0.17        16\n",
      "            selenium       0.83      0.71      0.77        28\n",
      "          kubernetes       0.85      0.48      0.61        23\n",
      "     machinelearning       0.00      0.00      0.00        17\n",
      "    visualstudiocode       0.83      0.54      0.65        28\n",
      "             express       0.50      0.11      0.18        18\n",
      "         rubyonrails       0.50      0.21      0.30        14\n",
      "                 xml       0.89      0.31      0.46        26\n",
      "             netcore       0.50      0.07      0.12        15\n",
      "               macos       0.38      0.14      0.20        22\n",
      "         apachespark       0.92      0.41      0.56        27\n",
      "            function       0.00      0.00      0.00        14\n",
      "              oracle       0.80      0.29      0.42        28\n",
      "                 csv       0.70      0.33      0.45        21\n",
      "                ajax       0.71      0.31      0.43        16\n",
      "           algorithm       0.00      0.00      0.00        21\n",
      "          matplotlib       1.00      0.42      0.59        12\n",
      "             unity3d       1.00      0.35      0.52        20\n",
      "               image       0.40      0.10      0.15        21\n",
      "googlecloudfirestore       0.89      0.73      0.80        22\n",
      "             swiftui       1.00      0.32      0.48        19\n",
      "               keras       0.85      0.42      0.56        26\n",
      "                 wpf       0.62      0.45      0.53        11\n",
      "        visualstudio       0.57      0.24      0.33        17\n",
      "         woocommerce       1.00      0.80      0.89        15\n",
      "          dictionary       0.60      0.33      0.43         9\n",
      "            amazons3       0.70      0.47      0.56        15\n",
      "            datetime       0.00      0.00      0.00        10\n",
      "               maven       0.89      0.38      0.53        21\n",
      "               loops       0.00      0.00      0.00        12\n",
      "               shell       0.67      0.22      0.33        18\n",
      "                 npm       0.43      0.23      0.30        13\n",
      "               flask       1.00      0.60      0.75        15\n",
      "              apache       0.50      0.18      0.27        11\n",
      "                ruby       0.80      0.31      0.44        13\n",
      "        googlechrome       0.67      0.18      0.29        11\n",
      " googlecloudplatform       0.40      0.11      0.17        18\n",
      "             pyspark       1.00      0.50      0.67        16\n",
      "              opencv       1.00      0.45      0.62        20\n",
      "              ubuntu       0.50      0.07      0.12        15\n",
      "\n",
      "           micro avg       0.78      0.40      0.53      5368\n",
      "           macro avg       0.69      0.35      0.45      5368\n",
      "        weighted avg       0.75      0.40      0.51      5368\n",
      "         samples avg       0.90      0.53      0.51      5368\n",
      "\n"
     ]
    }
   ],
   "source": [
    "y_test_predicted_labels_tfidf = training_pipe.predict(X_test)\n",
    "\n",
    "print(classification_report(y_test_binarized, \n",
    "                            y_test_predicted_labels_tfidf, \n",
    "                            target_names=binarizer.classes_, \n",
    "                            zero_division=1))"
   ]
  },
  {
   "cell_type": "code",
   "execution_count": 46,
   "metadata": {},
   "outputs": [
    {
     "data": {
      "text/plain": [
       "0.36575"
      ]
     },
     "execution_count": 46,
     "metadata": {},
     "output_type": "execute_result"
    }
   ],
   "source": [
    "accuracy_score(y_test_binarized, y_test_predicted_labels_tfidf)"
   ]
  },
  {
   "cell_type": "code",
   "execution_count": 48,
   "metadata": {
    "scrolled": false
   },
   "outputs": [
    {
     "name": "stdout",
     "output_type": "stream",
     "text": [
      "Text:\tCMSampleBufferCreate causes Thread 1: EXC_BAD_ACCESS (code=1, address=0x0) I am trying to make a CMSampleBuffer out of a CMBlockBuffer and I am using CMSampleBufferCreate but whatever I try I always get Thread 1: EXC_BAD_ACCESS (code=1, address=0x0)\n",
      "let status = CMSampleBufferCreate(kCFAllocatorDefault,\n",
      "                                              buffer, //CMBlockBuffer cannot be nil\n",
      "                                              true,\n",
      "                                              nil,\n",
      "                                              nil,\n",
      "                                              nil,\n",
      "                                              1,\n",
      "                                              0,\n",
      "                                              nil,\n",
      "                                              1,\n",
      "                                              nil,\n",
      "                                              sampleBuffer //sampleBuffer is nil\n",
      ")\n",
      "\n",
      "\n",
      "I do not know how to do this so if there is another way or if I am doing something wrong please tell me because there are not many examples of this. Thanks so much!\n",
      "\n",
      "True labels:\tswift\n",
      "Predicted labels:\tswift\n",
      "\n",
      "\n",
      "Text:\thow do I implement Gaussian blurring layer in Keras? I have an autoencoder and I need to add a Gaussian noise layer after my output. I need a custom layer to do this, but I really do not know how to produce it, I need to produce it using tensors.\n",
      "\n",
      "\n",
      "what should I do if I want to implement the above equation in the call part of the following code?\n",
      "\n",
      "class SaltAndPepper(Layer):\n",
      "\n",
      "    def __init__(self, ratio, **kwargs):\n",
      "        super(SaltAndPepper, self).__init__(**kwargs)\n",
      "        self.supports_masking = True\n",
      "        self.ratio = ratio\n",
      "\n",
      "    # the definition of the call method of custom layer\n",
      "    def call(self, inputs, training=None):\n",
      "        def noised():\n",
      "            shp = K.shape(inputs)[1:]\n",
      "\n",
      "         **what should I put here????**            \n",
      "                return out\n",
      "\n",
      "        return K.in_train_phase(noised(), inputs, training=training)\n",
      "\n",
      "    def get_config(self):\n",
      "        config = {'ratio': self.ratio}\n",
      "        base_config = super(SaltAndPepper, self).get_config()\n",
      "        return dict(list(base_config.items()) + list(config.items()))\n",
      "\n",
      "\n",
      "I also try to implement using lambda layer but it dose not work.\n",
      "\n",
      "True labels:\tpython,tensorflow,keras\n",
      "Predicted labels:\tpython,keras\n",
      "\n",
      "\n",
      "Text:\tPython Ternary Operator Without else Is it possible to do this on one line in Python?\n",
      "\n",
      "if condition:\n",
      "    myList.append('myString')\n",
      "\n",
      "\n",
      "I have tried the ternary operator:\n",
      "\n",
      "myList.append('myString' if condition)\n",
      "\n",
      "\n",
      "but my IDE (MyEclipse) didn't like it, without an else.\n",
      "\n",
      "True labels:\tpython\n",
      "Predicted labels:\tpython\n",
      "\n",
      "\n"
     ]
    }
   ],
   "source": [
    "y_test_predicted_labels_tfidf = training_pipe.predict(X_test)\n",
    "y_test_pred_inversed = binarizer.inverse_transform(y_test_predicted_labels_tfidf)\n",
    "y_test_inversed = binarizer.inverse_transform(y_test_binarized)\n",
    "for i in [500, 501, 502]:\n",
    "    print('Text:\\t{}\\nTrue labels:\\t{}\\nPredicted labels:\\t{}\\n\\n'.format(\n",
    "        X_test[i],\n",
    "        ','.join(y_test_inversed[i]),\n",
    "        ','.join(y_test_pred_inversed[i])\n",
    "    ))"
   ]
  },
  {
   "cell_type": "code",
   "execution_count": 52,
   "metadata": {},
   "outputs": [
    {
     "data": {
      "text/plain": [
       "[('regex',)]"
      ]
     },
     "execution_count": 52,
     "metadata": {},
     "output_type": "execute_result"
    }
   ],
   "source": [
    "pred = training_pipe.predict(['regex to remove parenthesis where use of braces causes stasis'])\n",
    "binarizer.inverse_transform(pred)"
   ]
  },
  {
   "cell_type": "markdown",
   "metadata": {},
   "source": [
    "## Randomized search CV"
   ]
  },
  {
   "cell_type": "code",
   "execution_count": 73,
   "metadata": {},
   "outputs": [],
   "source": [
    "search_space = {\"tfidf__min_df\": np.arange(5, 100),\n",
    "                \"tfidf__max_df\": np.arange(0.01, 0.98, step=0.01),\n",
    "                \"clf\": [ClassifierChain(LogisticRegression(random_state=42,\n",
    "                                                           dual=False, \n",
    "                                                           solver=\"liblinear\", \n",
    "                                                           max_iter=1000), \n",
    "                                             cv=3)], \n",
    "                \"clf__estimator__C\": np.arange(0.000001, 1000, step=0.00001),\n",
    "                \"clf__estimator__penalty\": ['l1', 'l2']}"
   ]
  },
  {
   "cell_type": "code",
   "execution_count": 57,
   "metadata": {},
   "outputs": [],
   "source": [
    "scoring = {'f1': make_scorer(f1_score, average= 'weighted'), \n",
    "           'average_precision': 'average_precision'}\n",
    "\n",
    "rs = RandomizedSearchCV(training_pipe, \n",
    "                        param_distributions=tfidf_params, \n",
    "                        scoring=scoring, \n",
    "                        refit='f1', \n",
    "                        return_train_score=True, \n",
    "                        n_iter=50, \n",
    "                        cv=3, \n",
    "                        verbose=10, \n",
    "                        n_jobs=-1)"
   ]
  },
  {
   "cell_type": "code",
   "execution_count": 58,
   "metadata": {},
   "outputs": [
    {
     "name": "stdout",
     "output_type": "stream",
     "text": [
      "Fitting 3 folds for each of 50 candidates, totalling 150 fits\n"
     ]
    },
    {
     "name": "stderr",
     "output_type": "stream",
     "text": [
      "[Parallel(n_jobs=-1)]: Using backend LokyBackend with 4 concurrent workers.\n",
      "[Parallel(n_jobs=-1)]: Done   5 tasks      | elapsed: 12.1min\n",
      "[Parallel(n_jobs=-1)]: Done  10 tasks      | elapsed: 18.3min\n",
      "[Parallel(n_jobs=-1)]: Done  17 tasks      | elapsed: 30.5min\n",
      "[Parallel(n_jobs=-1)]: Done  24 tasks      | elapsed: 37.0min\n",
      "[Parallel(n_jobs=-1)]: Done  33 tasks      | elapsed: 53.2min\n",
      "[Parallel(n_jobs=-1)]: Done  42 tasks      | elapsed: 65.5min\n",
      "[Parallel(n_jobs=-1)]: Done  53 tasks      | elapsed: 83.2min\n",
      "[Parallel(n_jobs=-1)]: Done  64 tasks      | elapsed: 96.7min\n",
      "[Parallel(n_jobs=-1)]: Done  77 tasks      | elapsed: 120.3min\n",
      "[Parallel(n_jobs=-1)]: Done  90 tasks      | elapsed: 137.6min\n",
      "[Parallel(n_jobs=-1)]: Done 105 tasks      | elapsed: 161.0min\n",
      "[Parallel(n_jobs=-1)]: Done 120 tasks      | elapsed: 180.4min\n",
      "[Parallel(n_jobs=-1)]: Done 137 tasks      | elapsed: 207.2min\n",
      "[Parallel(n_jobs=-1)]: Done 150 out of 150 | elapsed: 223.1min finished\n"
     ]
    },
    {
     "name": "stdout",
     "output_type": "stream",
     "text": [
      "[Pipeline] ...... (step 1 of 3) Processing preprocessor, total=   2.7s\n",
      "[Pipeline] ............. (step 2 of 3) Processing tfidf, total=  56.6s\n",
      "[Pipeline] ............... (step 3 of 3) Processing clf, total= 1.6min\n",
      "CPU times: user 2min 35s, sys: 11.4 s, total: 2min 46s\n",
      "Wall time: 3h 45min 42s\n"
     ]
    },
    {
     "data": {
      "text/plain": [
       "RandomizedSearchCV(cv=3,\n",
       "                   estimator=Pipeline(steps=[('preprocessor',\n",
       "                                              FunctionTransformer(func=<function text_prepare at 0x7fd6e4744dd0>,\n",
       "                                                                  kw_args={'join_symbol': ' '})),\n",
       "                                             ('tfidf',\n",
       "                                              TfidfVectorizer(max_df=0.9,\n",
       "                                                              min_df=5,\n",
       "                                                              ngram_range=(1,\n",
       "                                                                           3),\n",
       "                                                              tokenizer=<function tokenize_and_stem at 0x7fd6f3cd0200>)),\n",
       "                                             ('clf',\n",
       "                                              ClassifierChain(base_estimator=LogisticRegression(penalty='l1',\n",
       "                                                                                                so...\n",
       "       22, 23, 24, 25, 26, 27, 28, 29, 30, 31, 32, 33, 34, 35, 36, 37, 38,\n",
       "       39, 40, 41, 42, 43, 44, 45, 46, 47, 48, 49, 50, 51, 52, 53, 54, 55,\n",
       "       56, 57, 58, 59, 60, 61, 62, 63, 64, 65, 66, 67, 68, 69, 70, 71, 72,\n",
       "       73, 74, 75, 76, 77, 78, 79, 80, 81, 82, 83, 84, 85, 86, 87, 88, 89,\n",
       "       90, 91, 92, 93, 94, 95, 96, 97, 98, 99])},\n",
       "                   refit='f1', return_train_score=True,\n",
       "                   scoring={'average_precision': 'average_precision',\n",
       "                            'f1': make_scorer(f1_score, average=weighted)},\n",
       "                   verbose=10)"
      ]
     },
     "execution_count": 58,
     "metadata": {},
     "output_type": "execute_result"
    }
   ],
   "source": [
    "%time rs.fit(X_train, y_train_binarized)"
   ]
  },
  {
   "cell_type": "code",
   "execution_count": 62,
   "metadata": {
    "scrolled": false
   },
   "outputs": [
    {
     "name": "stdout",
     "output_type": "stream",
     "text": [
      "Text:\tNuxtjs Vuex not saving changes I have data between sessions that is saved in window.localStorage. When a new session starts a plugin will grab the data and add it to the store.\n",
      "// ./store/data.js\n",
      "\n",
      "export const state = () = ({\n",
      "  data: []\n",
      "})\n",
      "\n",
      "export const mutations = {\n",
      "  addItemToData (state, item) {\n",
      "    state.data = state.data.push(item)\n",
      "  },\n",
      "  setData (state, data) {\n",
      "    state.data = data\n",
      "  },\n",
      "}\n",
      "\n",
      "\n",
      "// ./store/index.js\n",
      "\n",
      "import localStorage from '../plugins/localStorage'\n",
      "\n",
      "export const plugins = [localStorage]\n",
      "\n",
      "\n",
      "// plugins/localStorage.js\n",
      "\n",
      "const localStorage = store = {\n",
      "\n",
      "  store.subscribe((mutation, state) = {\n",
      "\n",
      "    if (mutation.type === 'data/addItemToData') {\n",
      "      console.log('saving added item to storage')\n",
      "      window.localStorage.setItem('data', JSON.stringify(state.data.data))\n",
      "    }\n",
      "\n",
      "  })\n",
      "\n",
      "  // called when the store is initialized\n",
      "  if (typeof window !== 'undefined') {\n",
      "    if (window.localStorage.data) {\n",
      "      store.commit('data/setData', JSON.parse(window.localStorage.getItem('data')))\n",
      "    }\n",
      "  }\n",
      "}\n",
      "\n",
      "export default localStorage\n",
      "\n",
      "\n",
      "I've thrown all sorts of console statements in, and they all seem to output what they should. The data is in the localStorage, the mutations are firing, but after all that the data isn't in the store.\n",
      "Any help would be great, thanks!\n",
      "\n",
      "True labels:\tjavascript,vuejs\n",
      "Predicted labels:\t\n",
      "\n",
      "\n"
     ]
    }
   ],
   "source": [
    "y_test_predicted_labels_tfidf = rs.predict(X_test)\n",
    "y_test_pred_inversed = binarizer.inverse_transform(y_test_predicted_labels_tfidf)\n",
    "y_test_inversed = binarizer.inverse_transform(y_test_binarized)\n",
    "for i in range(301, 302, 303):\n",
    "    print('Text:\\t{}\\nTrue labels:\\t{}\\nPredicted labels:\\t{}\\n\\n'.format(\n",
    "        X_test[i],\n",
    "        ','.join(y_test_inversed[i]),\n",
    "        ','.join(y_test_pred_inversed[i])\n",
    "    ))"
   ]
  },
  {
   "cell_type": "code",
   "execution_count": 60,
   "metadata": {
    "scrolled": false
   },
   "outputs": [
    {
     "name": "stdout",
     "output_type": "stream",
     "text": [
      "                      precision    recall  f1-score   support\n",
      "\n",
      "              python       0.80      0.59      0.68       513\n",
      "          javascript       0.80      0.36      0.50       403\n",
      "                java       0.82      0.40      0.54       300\n",
      "             android       0.80      0.51      0.63       187\n",
      "                  c#       0.80      0.41      0.54       197\n",
      "                html       0.60      0.26      0.36       154\n",
      "             reactjs       0.80      0.59      0.68       148\n",
      "                 php       0.85      0.41      0.55       142\n",
      "            python3x       0.60      0.03      0.05       115\n",
      "              nodejs       0.87      0.33      0.48       118\n",
      "                   r       0.79      0.41      0.54        91\n",
      "                 c++       0.76      0.45      0.56        85\n",
      "                 css       0.80      0.43      0.55       101\n",
      "                 sql       0.62      0.25      0.35        85\n",
      "             flutter       0.97      0.73      0.83        82\n",
      "             angular       0.95      0.61      0.75        96\n",
      "                 ios       0.70      0.27      0.39        85\n",
      "              pandas       0.82      0.49      0.62        75\n",
      "              jquery       0.81      0.29      0.43        59\n",
      "               mysql       0.85      0.48      0.62        60\n",
      "               swift       0.94      0.41      0.57        70\n",
      "              django       0.96      0.73      0.83        60\n",
      "                   c       0.60      0.27      0.37        45\n",
      "          typescript       0.71      0.28      0.40        54\n",
      "              arrays       0.35      0.18      0.24        39\n",
      "                json       0.66      0.39      0.49        54\n",
      "             laravel       0.79      0.60      0.68        45\n",
      "         reactnative       0.97      0.65      0.78        49\n",
      "           sqlserver       0.76      0.33      0.46        49\n",
      "   amazonwebservices       0.75      0.40      0.52        53\n",
      "          springboot       0.65      0.31      0.42        42\n",
      "            firebase       0.76      0.55      0.64        56\n",
      "              docker       0.86      0.64      0.73        47\n",
      "               azure       0.75      0.35      0.48        43\n",
      "                dart       0.70      0.29      0.41        49\n",
      "           dataframe       0.46      0.14      0.22        42\n",
      "               excel       0.79      0.47      0.59        47\n",
      "              kotlin       0.82      0.38      0.52        37\n",
      "               linux       0.36      0.10      0.16        39\n",
      "              spring       0.83      0.25      0.38        40\n",
      "               vuejs       0.86      0.43      0.58        44\n",
      "          postgresql       0.72      0.38      0.50        34\n",
      "           wordpress       0.83      0.62      0.71        39\n",
      "               numpy       1.00      0.41      0.58        22\n",
      "              string       0.00      0.00      0.00        36\n",
      "          tensorflow       0.65      0.39      0.49        38\n",
      "             mongodb       0.89      0.57      0.70        28\n",
      "             windows       0.14      0.07      0.10        28\n",
      "                 net       0.60      0.09      0.15        34\n",
      "                 vba       0.89      0.78      0.83        32\n",
      "               regex       0.80      0.43      0.56        37\n",
      "          aspnetcore       1.00      0.29      0.45        34\n",
      "                bash       0.78      0.35      0.48        20\n",
      "       androidstudio       0.82      0.32      0.46        28\n",
      "                 api       0.00      0.00      0.00        33\n",
      "                 git       0.92      0.52      0.67        23\n",
      "            database       1.00      0.00      0.00        18\n",
      "          powershell       0.94      0.62      0.75        24\n",
      "               xcode       0.80      0.44      0.57        27\n",
      "              aspnet       0.33      0.05      0.09        19\n",
      "                list       0.25      0.12      0.17        16\n",
      "            selenium       0.84      0.75      0.79        28\n",
      "          kubernetes       0.92      0.48      0.63        23\n",
      "     machinelearning       0.00      0.00      0.00        17\n",
      "    visualstudiocode       0.82      0.50      0.62        28\n",
      "             express       0.67      0.11      0.19        18\n",
      "         rubyonrails       0.50      0.21      0.30        14\n",
      "                 xml       0.90      0.35      0.50        26\n",
      "             netcore       0.67      0.13      0.22        15\n",
      "               macos       0.33      0.14      0.19        22\n",
      "         apachespark       0.85      0.41      0.55        27\n",
      "            function       0.00      0.00      0.00        14\n",
      "              oracle       0.62      0.18      0.28        28\n",
      "                 csv       0.70      0.33      0.45        21\n",
      "                ajax       0.86      0.38      0.52        16\n",
      "           algorithm       0.00      0.00      0.00        21\n",
      "          matplotlib       1.00      0.58      0.74        12\n",
      "             unity3d       1.00      0.40      0.57        20\n",
      "               image       0.50      0.10      0.16        21\n",
      "googlecloudfirestore       0.83      0.68      0.75        22\n",
      "             swiftui       1.00      0.42      0.59        19\n",
      "               keras       0.85      0.42      0.56        26\n",
      "                 wpf       0.67      0.55      0.60        11\n",
      "        visualstudio       0.67      0.24      0.35        17\n",
      "         woocommerce       1.00      0.87      0.93        15\n",
      "          dictionary       0.60      0.33      0.43         9\n",
      "            amazons3       0.67      0.40      0.50        15\n",
      "            datetime       0.00      0.00      0.00        10\n",
      "               maven       0.90      0.43      0.58        21\n",
      "               loops       0.00      0.00      0.00        12\n",
      "               shell       0.67      0.11      0.19        18\n",
      "                 npm       0.43      0.23      0.30        13\n",
      "               flask       1.00      0.67      0.80        15\n",
      "              apache       0.60      0.27      0.37        11\n",
      "                ruby       0.67      0.31      0.42        13\n",
      "        googlechrome       1.00      0.18      0.31        11\n",
      " googlecloudplatform       0.33      0.06      0.10        18\n",
      "             pyspark       0.89      0.50      0.64        16\n",
      "              opencv       1.00      0.55      0.71        20\n",
      "              ubuntu       0.50      0.07      0.12        15\n",
      "\n",
      "           micro avg       0.78      0.40      0.53      5368\n",
      "           macro avg       0.70      0.35      0.45      5368\n",
      "        weighted avg       0.75      0.40      0.51      5368\n",
      "         samples avg       0.90      0.53      0.51      5368\n",
      "\n"
     ]
    }
   ],
   "source": [
    "print(classification_report(y_test_binarized, \n",
    "                            y_test_predicted_labels_tfidf, \n",
    "                            target_names=binarizer.classes_, \n",
    "                            zero_division=1))"
   ]
  },
  {
   "cell_type": "markdown",
   "metadata": {},
   "source": [
    "### Save the RandomizedSearchCV model\n",
    "\n",
    "Saving RandomizedSearchCV best predictor along with the binarizer transformer. "
   ]
  },
  {
   "cell_type": "code",
   "execution_count": 20,
   "metadata": {},
   "outputs": [
    {
     "ename": "NameError",
     "evalue": "name 'rs' is not defined",
     "output_type": "error",
     "traceback": [
      "\u001b[0;31m---------------------------------------------------------------------------\u001b[0m",
      "\u001b[0;31mNameError\u001b[0m                                 Traceback (most recent call last)",
      "\u001b[0;32m<ipython-input-20-1241f41beba9>\u001b[0m in \u001b[0;36m<module>\u001b[0;34m\u001b[0m\n\u001b[1;32m      1\u001b[0m \u001b[0mfname\u001b[0m \u001b[0;34m=\u001b[0m \u001b[0;34m\"models/\"\u001b[0m \u001b[0;34m+\u001b[0m \u001b[0mstr\u001b[0m\u001b[0;34m(\u001b[0m\u001b[0mdate\u001b[0m\u001b[0;34m.\u001b[0m\u001b[0mtoday\u001b[0m\u001b[0;34m(\u001b[0m\u001b[0;34m)\u001b[0m\u001b[0;34m)\u001b[0m\u001b[0;34m.\u001b[0m\u001b[0mreplace\u001b[0m\u001b[0;34m(\u001b[0m\u001b[0;34m\"-\"\u001b[0m\u001b[0;34m,\u001b[0m \u001b[0;34m\"_\"\u001b[0m\u001b[0;34m)\u001b[0m \u001b[0;34m+\u001b[0m \u001b[0;34m\"_rs_model_and_mlb.pkl\"\u001b[0m\u001b[0;34m\u001b[0m\u001b[0;34m\u001b[0m\u001b[0m\n\u001b[0;32m----> 2\u001b[0;31m \u001b[0mjoblib\u001b[0m\u001b[0;34m.\u001b[0m\u001b[0mdump\u001b[0m\u001b[0;34m(\u001b[0m\u001b[0;34m(\u001b[0m\u001b[0mrs\u001b[0m\u001b[0;34m.\u001b[0m\u001b[0mbest_estimator_\u001b[0m\u001b[0;34m,\u001b[0m \u001b[0mbinarizer\u001b[0m\u001b[0;34m)\u001b[0m\u001b[0;34m,\u001b[0m \u001b[0mfname\u001b[0m\u001b[0;34m)\u001b[0m\u001b[0;34m\u001b[0m\u001b[0;34m\u001b[0m\u001b[0m\n\u001b[0m",
      "\u001b[0;31mNameError\u001b[0m: name 'rs' is not defined"
     ]
    }
   ],
   "source": [
    "fname = \"models/\" + str(date.today()).replace(\"-\", \"_\") + \"_rs_model_and_mlb.pkl\"\n",
    "joblib.dump((rs.best_estimator_, binarizer), fname)"
   ]
  },
  {
   "cell_type": "markdown",
   "metadata": {},
   "source": [
    "## Making predictions"
   ]
  },
  {
   "cell_type": "code",
   "execution_count": 21,
   "metadata": {},
   "outputs": [],
   "source": [
    "fname = \"../models/2020_11_08_rs_model_and_mlb.pkl\"\n",
    "model, binarizer = load(fname)"
   ]
  },
  {
   "cell_type": "code",
   "execution_count": 67,
   "metadata": {},
   "outputs": [],
   "source": [
    "def get_preds(model, binarizer, sentence: str) -> set:\n",
    "    \"\"\"Get labels of prediction for a single sentence (hence the 0)\"\"\"\n",
    "    raw_preds = model.predict([sentence])\n",
    "    return binarizer.inverse_transform(raw_pred)[0]\n",
    "    \n",
    "def get_probability_preds(model, sentence: str) -> dict:\n",
    "    \"\"\"Get probabilities for all tags possible for a single sentence (hence the 0)\"\"\"\n",
    "    global TAGS_TO_KEEP\n",
    "    probs = model.predict_proba([sentence])[0]\n",
    "    return dict(zip(TAGS_TO_KEEP, probs))    \n",
    "\n",
    "def predict(model, binarizer, sentence) -> dict:\n",
    "    preds = get_preds(model, binarizer, sentence)\n",
    "    probs_dict = get_probability_preds(model, sentence)\n",
    "    return dict(zip(preds, [probs_dict.get(key) for key in preds]))"
   ]
  },
  {
   "cell_type": "code",
   "execution_count": 70,
   "metadata": {},
   "outputs": [
    {
     "data": {
      "text/plain": [
       "{'python': 0.9990015485606143, 'tensorflow': 0.9999104637304294}"
      ]
     },
     "execution_count": 70,
     "metadata": {},
     "output_type": "execute_result"
    }
   ],
   "source": [
    "sentence = \"This Tensorflow Python thing is turning out really tricky \"\n",
    "predict(model=model, binarizer=binarizer, sentence=sentence)"
   ]
  },
  {
   "cell_type": "code",
   "execution_count": null,
   "metadata": {},
   "outputs": [],
   "source": []
  }
 ],
 "metadata": {
  "kernelspec": {
   "display_name": "Python 3",
   "language": "python",
   "name": "python3"
  },
  "language_info": {
   "codemirror_mode": {
    "name": "ipython",
    "version": 3
   },
   "file_extension": ".py",
   "mimetype": "text/x-python",
   "name": "python",
   "nbconvert_exporter": "python",
   "pygments_lexer": "ipython3",
   "version": "3.8.5"
  },
  "varInspector": {
   "cols": {
    "lenName": 16,
    "lenType": 16,
    "lenVar": 40
   },
   "kernels_config": {
    "python": {
     "delete_cmd_postfix": "",
     "delete_cmd_prefix": "del ",
     "library": "var_list.py",
     "varRefreshCmd": "print(var_dic_list())"
    },
    "r": {
     "delete_cmd_postfix": ") ",
     "delete_cmd_prefix": "rm(",
     "library": "var_list.r",
     "varRefreshCmd": "cat(var_dic_list()) "
    }
   },
   "types_to_exclude": [
    "module",
    "function",
    "builtin_function_or_method",
    "instance",
    "_Feature"
   ],
   "window_display": false
  }
 },
 "nbformat": 4,
 "nbformat_minor": 4
}
